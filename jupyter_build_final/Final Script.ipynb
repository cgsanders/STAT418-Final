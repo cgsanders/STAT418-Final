{
 "cells": [
  {
   "cell_type": "markdown",
   "metadata": {},
   "source": [
    "# Web Data Scraping\n",
    "\n",
    "\n",
    "\n",
    "## Data Scarping\n",
    "This script will serve as the projects Data Request script, pulling information off of the Reddit API. We will be taking information of the Politics Subreddit from both Top and Controversial threads. I hope to use the Title, Domain, and other factors to do a textual analysis to try to see what phrases are related with each thread. "
   ]
  },
  {
   "cell_type": "markdown",
   "metadata": {},
   "source": [
    "## Python Libraries\n",
    "\n",
    "We'll need a few common libraries for all these examples. (if one of these doesn't exist, put it in your `requirements.txt` file and then rebuild your docker image."
   ]
  },
  {
   "cell_type": "code",
   "execution_count": 88,
   "metadata": {},
   "outputs": [],
   "source": [
    "# Lets us talk to other servers on the web\n",
    "import requests\n",
    "\n",
    "# APIs spit out data in JSON\n",
    "import json\n",
    "\n",
    "# Use BeautifulSoup to parse some HTML\n",
    "from bs4 import BeautifulSoup\n",
    "\n",
    "# Handling dates and times\n",
    "from datetime import datetime\n",
    "\n",
    "# DataFrames!\n",
    "import pandas as pd\n",
    "\n",
    "# Data visualization\n",
    "%matplotlib inline\n",
    "import matplotlib.pyplot as plt\n",
    "import seaborn as sb\n",
    "\n",
    "# operating system commands\n",
    "import os\n",
    "\n",
    "#Reddit Crawling Library\n",
    "import praw\n",
    "\n",
    "from collections import Counter"
   ]
  },
  {
   "cell_type": "markdown",
   "metadata": {},
   "source": [
    "## Scraping Reddit\n",
    "We will use a wrapper library to communicate with the Reddit API called [Python Reddit API Wrapper](https://praw.readthedocs.io/en/latest/) or `praw`. \n",
    "\n",
    "In the texts bellow we will have our reddit API data. I have hidden mine from the public release but you can input your own.\n",
    "\n"
   ]
  },
  {
   "cell_type": "code",
   "execution_count": 89,
   "metadata": {},
   "outputs": [],
   "source": [
    "r = praw.Reddit(client_id='',\n",
    "                client_secret='',\n",
    "                password='',\n",
    "                user_agent=''\n",
    "                username='')"
   ]
  },
  {
   "cell_type": "markdown",
   "metadata": {},
   "source": [
    "## Requesting Data\n",
    "Bellow we will request 1000 Top and Controversial post and grab specific data from the information from the JSON Response. We do this in two rounds resulting in 2000 observations split evenly. "
   ]
  },
  {
   "cell_type": "code",
   "execution_count": 100,
   "metadata": {},
   "outputs": [],
   "source": [
    "politics_stats = []\n",
    "\n",
    "for submission in r.subreddit('politics').top('year',limit=1000):\n",
    "    d = {}\n",
    "    d['id'] = submission.id\n",
    "    d['title'] = submission.title\n",
    "    d['url'] = submission.url\n",
    "    d['num_comments'] = submission.num_comments\n",
    "    d['score'] = submission.score\n",
    "    d['upvote_ratio'] = submission.upvote_ratio\n",
    "    d['date'] = datetime.utcfromtimestamp(submission.created_utc)\n",
    "    d['domain'] = submission.domain\n",
    "    d['gilded'] = submission.gilded\n",
    "    d['num_crossposts'] = submission.num_crossposts\n",
    "    d['nsfw'] = submission.over_18\n",
    "    try:\n",
    "        d['author'] = submission.author.name\n",
    "    except:\n",
    "        d['author'] = None\n",
    "    d['Type'] = 'Top'\n",
    "    politics_stats.append(d)\n",
    "    \n",
    "for submission in r.subreddit('politics').controversial('year',limit=1000):\n",
    "    d = {}\n",
    "    d['id'] = submission.id\n",
    "    d['title'] = submission.title\n",
    "    d['url'] = submission.url\n",
    "    d['num_comments'] = submission.num_comments\n",
    "    d['score'] = submission.score\n",
    "    d['upvote_ratio'] = submission.upvote_ratio\n",
    "    d['date'] = datetime.utcfromtimestamp(submission.created_utc)\n",
    "    d['domain'] = submission.domain\n",
    "    d['gilded'] = submission.gilded\n",
    "    d['num_crossposts'] = submission.num_crossposts\n",
    "    d['nsfw'] = submission.over_18\n",
    "    try:\n",
    "        d['author'] = submission.author.name\n",
    "    except:\n",
    "        d['author'] = None\n",
    "    d['Type'] = 'Controversial'\n",
    "    politics_stats.append(d)"
   ]
  },
  {
   "cell_type": "markdown",
   "metadata": {},
   "source": [
    "We then format this data into a Pandas Data Frame and take a peak."
   ]
  },
  {
   "cell_type": "code",
   "execution_count": 101,
   "metadata": {
    "scrolled": false
   },
   "outputs": [
    {
     "data": {
      "text/html": [
       "<div>\n",
       "<style scoped>\n",
       "    .dataframe tbody tr th:only-of-type {\n",
       "        vertical-align: middle;\n",
       "    }\n",
       "\n",
       "    .dataframe tbody tr th {\n",
       "        vertical-align: top;\n",
       "    }\n",
       "\n",
       "    .dataframe thead th {\n",
       "        text-align: right;\n",
       "    }\n",
       "</style>\n",
       "<table border=\"1\" class=\"dataframe\">\n",
       "  <thead>\n",
       "    <tr style=\"text-align: right;\">\n",
       "      <th></th>\n",
       "      <th>Type</th>\n",
       "      <th>author</th>\n",
       "      <th>date</th>\n",
       "      <th>domain</th>\n",
       "      <th>gilded</th>\n",
       "      <th>id</th>\n",
       "      <th>nsfw</th>\n",
       "      <th>num_comments</th>\n",
       "      <th>num_crossposts</th>\n",
       "      <th>score</th>\n",
       "      <th>title</th>\n",
       "      <th>upvote_ratio</th>\n",
       "      <th>url</th>\n",
       "    </tr>\n",
       "  </thead>\n",
       "  <tbody>\n",
       "    <tr>\n",
       "      <th>0</th>\n",
       "      <td>Top</td>\n",
       "      <td>FuegoFerdinand</td>\n",
       "      <td>2018-11-07 01:02:55</td>\n",
       "      <td>kentucky.com</td>\n",
       "      <td>1</td>\n",
       "      <td>9uuhl3</td>\n",
       "      <td>False</td>\n",
       "      <td>2774</td>\n",
       "      <td>15</td>\n",
       "      <td>101989</td>\n",
       "      <td>Kim Davis, clerk who refused to sign marriage ...</td>\n",
       "      <td>0.83</td>\n",
       "      <td>https://www.kentucky.com/news/politics-governm...</td>\n",
       "    </tr>\n",
       "    <tr>\n",
       "      <th>1</th>\n",
       "      <td>Top</td>\n",
       "      <td>Bloodbath-McGrath</td>\n",
       "      <td>2018-11-19 23:35:44</td>\n",
       "      <td>washingtonpost.com</td>\n",
       "      <td>4</td>\n",
       "      <td>9ymbzc</td>\n",
       "      <td>False</td>\n",
       "      <td>6530</td>\n",
       "      <td>6</td>\n",
       "      <td>89796</td>\n",
       "      <td>Ivanka Trump used a personal email account to ...</td>\n",
       "      <td>0.83</td>\n",
       "      <td>https://www.washingtonpost.com/politics/ivanka...</td>\n",
       "    </tr>\n",
       "    <tr>\n",
       "      <th>2</th>\n",
       "      <td>Top</td>\n",
       "      <td>Eurynom0s</td>\n",
       "      <td>2019-01-12 01:21:08</td>\n",
       "      <td>nytimes.com</td>\n",
       "      <td>30</td>\n",
       "      <td>af2foq</td>\n",
       "      <td>False</td>\n",
       "      <td>7994</td>\n",
       "      <td>11</td>\n",
       "      <td>87707</td>\n",
       "      <td>F.B.I. Opened Inquiry Into Whether Trump Was S...</td>\n",
       "      <td>0.81</td>\n",
       "      <td>https://www.nytimes.com/2019/01/11/us/politics...</td>\n",
       "    </tr>\n",
       "    <tr>\n",
       "      <th>3</th>\n",
       "      <td>Top</td>\n",
       "      <td>emitremmus27</td>\n",
       "      <td>2019-01-15 16:34:05</td>\n",
       "      <td>thehill.com</td>\n",
       "      <td>1</td>\n",
       "      <td>agabcf</td>\n",
       "      <td>False</td>\n",
       "      <td>7556</td>\n",
       "      <td>9</td>\n",
       "      <td>85165</td>\n",
       "      <td>McConnell blocks House bill to reopen governme...</td>\n",
       "      <td>0.85</td>\n",
       "      <td>https://thehill.com/homenews/senate/425414-mcc...</td>\n",
       "    </tr>\n",
       "    <tr>\n",
       "      <th>4</th>\n",
       "      <td>Top</td>\n",
       "      <td>PoliticsModeratorBot</td>\n",
       "      <td>2019-01-18 03:56:54</td>\n",
       "      <td>self.politics</td>\n",
       "      <td>36</td>\n",
       "      <td>ah6gxc</td>\n",
       "      <td>False</td>\n",
       "      <td>30009</td>\n",
       "      <td>9</td>\n",
       "      <td>84372</td>\n",
       "      <td>Megathread: President Trump Directed His Attor...</td>\n",
       "      <td>0.81</td>\n",
       "      <td>https://www.reddit.com/r/politics/comments/ah6...</td>\n",
       "    </tr>\n",
       "  </tbody>\n",
       "</table>\n",
       "</div>"
      ],
      "text/plain": [
       "  Type                author                date              domain  gilded  \\\n",
       "0  Top        FuegoFerdinand 2018-11-07 01:02:55        kentucky.com       1   \n",
       "1  Top     Bloodbath-McGrath 2018-11-19 23:35:44  washingtonpost.com       4   \n",
       "2  Top             Eurynom0s 2019-01-12 01:21:08         nytimes.com      30   \n",
       "3  Top          emitremmus27 2019-01-15 16:34:05         thehill.com       1   \n",
       "4  Top  PoliticsModeratorBot 2019-01-18 03:56:54       self.politics      36   \n",
       "\n",
       "       id   nsfw  num_comments  num_crossposts   score  \\\n",
       "0  9uuhl3  False          2774              15  101989   \n",
       "1  9ymbzc  False          6530               6   89796   \n",
       "2  af2foq  False          7994              11   87707   \n",
       "3  agabcf  False          7556               9   85165   \n",
       "4  ah6gxc  False         30009               9   84372   \n",
       "\n",
       "                                               title  upvote_ratio  \\\n",
       "0  Kim Davis, clerk who refused to sign marriage ...          0.83   \n",
       "1  Ivanka Trump used a personal email account to ...          0.83   \n",
       "2  F.B.I. Opened Inquiry Into Whether Trump Was S...          0.81   \n",
       "3  McConnell blocks House bill to reopen governme...          0.85   \n",
       "4  Megathread: President Trump Directed His Attor...          0.81   \n",
       "\n",
       "                                                 url  \n",
       "0  https://www.kentucky.com/news/politics-governm...  \n",
       "1  https://www.washingtonpost.com/politics/ivanka...  \n",
       "2  https://www.nytimes.com/2019/01/11/us/politics...  \n",
       "3  https://thehill.com/homenews/senate/425414-mcc...  \n",
       "4  https://www.reddit.com/r/politics/comments/ah6...  "
      ]
     },
     "execution_count": 101,
     "metadata": {},
     "output_type": "execute_result"
    }
   ],
   "source": [
    "politics_df = pd.DataFrame(politics_stats)\n",
    "politics_df.head()"
   ]
  },
  {
   "cell_type": "markdown",
   "metadata": {},
   "source": [
    "We compare number of comments and see that the controversial number of comments are much lower than the Top. Not suprising, but the two are linked and in any analysis of them we will have to be mindful."
   ]
  },
  {
   "cell_type": "code",
   "execution_count": 102,
   "metadata": {},
   "outputs": [
    {
     "data": {
      "text/plain": [
       "(array([998.,   1.,   0.,   0.,   0.,   0.,   0.,   0.,   0.,   1.]),\n",
       " array([    0. ,  1462.4,  2924.8,  4387.2,  5849.6,  7312. ,  8774.4,\n",
       "        10236.8, 11699.2, 13161.6, 14624. ]),\n",
       " <a list of 10 Patch objects>)"
      ]
     },
     "execution_count": 102,
     "metadata": {},
     "output_type": "execute_result"
    },
    {
     "data": {
      "image/png": "[encoded data removed]",
      "text/plain": [
       "<Figure size 432x288 with 1 Axes>"
      ]
     },
     "metadata": {
      "needs_background": "light"
     },
     "output_type": "display_data"
    }
   ],
   "source": [
    "plt.hist(politics_df[politics_df.Type == 'Top'].num_comments)\n",
    "plt.hist(politics_df[politics_df.Type == 'Controversial'].num_comments)"
   ]
  },
  {
   "cell_type": "markdown",
   "metadata": {},
   "source": [
    "A similar story playes out for the post score."
   ]
  },
  {
   "cell_type": "code",
   "execution_count": 118,
   "metadata": {
    "scrolled": true
   },
   "outputs": [
    {
     "data": {
      "text/plain": [
       "(array([996.,   3.,   0.,   0.,   0.,   0.,   0.,   0.,   0.,   1.]),\n",
       " array([   0. ,  155.7,  311.4,  467.1,  622.8,  778.5,  934.2, 1089.9,\n",
       "        1245.6, 1401.3, 1557. ]),\n",
       " <a list of 10 Patch objects>)"
      ]
     },
     "execution_count": 118,
     "metadata": {},
     "output_type": "execute_result"
    },
    {
     "data": {
      "image/png": "[encoded data removed]",
      "text/plain": [
       "<Figure size 432x288 with 1 Axes>"
      ]
     },
     "metadata": {
      "needs_background": "light"
     },
     "output_type": "display_data"
    }
   ],
   "source": [
    "#plt.hist(politics_df[politics_df.Type == 'Top'].score)\n",
    "plt.hist(politics_df[politics_df.Type == 'Controversial'].score)"
   ]
  },
  {
   "cell_type": "markdown",
   "metadata": {},
   "source": [
    "Finally we look at the top 20 website domains and the number of times they appear to give us an idea if any news sites are more associated with Top or Controversial."
   ]
  },
  {
   "cell_type": "code",
   "execution_count": 104,
   "metadata": {},
   "outputs": [
    {
     "data": {
      "text/plain": [
       "[('thehill.com', 106),\n",
       " ('newsweek.com', 69),\n",
       " ('washingtonpost.com', 65),\n",
       " ('self.politics', 41),\n",
       " ('businessinsider.com', 37),\n",
       " ('cnbc.com', 35),\n",
       " ('cnn.com', 34),\n",
       " ('independent.co.uk', 30),\n",
       " ('thinkprogress.org', 28),\n",
       " ('commondreams.org', 27),\n",
       " ('nytimes.com', 26),\n",
       " ('huffingtonpost.com', 24),\n",
       " ('lawandcrime.com', 23),\n",
       " ('vox.com', 22),\n",
       " ('theweek.com', 18),\n",
       " ('nbcnews.com', 18),\n",
       " ('thedailybeast.com', 16),\n",
       " ('motherjones.com', 14),\n",
       " ('axios.com', 14),\n",
       " ('salon.com', 14)]"
      ]
     },
     "execution_count": 104,
     "metadata": {},
     "output_type": "execute_result"
    }
   ],
   "source": [
    "domain_top = Counter(politics_df[politics_df.Type == 'Top'].domain)\n",
    "domain_top.most_common(20)"
   ]
  },
  {
   "cell_type": "code",
   "execution_count": 105,
   "metadata": {},
   "outputs": [
    {
     "data": {
      "text/plain": [
       "[('thehill.com', 98),\n",
       " ('washingtonpost.com', 45),\n",
       " ('politico.com', 32),\n",
       " ('thedailybeast.com', 28),\n",
       " ('commondreams.org', 26),\n",
       " ('cnn.com', 26),\n",
       " ('theintercept.com', 26),\n",
       " ('washingtontimes.com', 25),\n",
       " ('newsweek.com', 23),\n",
       " ('nytimes.com', 22),\n",
       " ('rightwingwatch.org', 20),\n",
       " ('theguardian.com', 20),\n",
       " ('nypost.com', 18),\n",
       " ('washingtonexaminer.com', 16),\n",
       " ('jacobinmag.com', 16),\n",
       " ('foxnews.com', 16),\n",
       " ('slate.com', 16),\n",
       " ('theroot.com', 15),\n",
       " ('yahoo.com', 14),\n",
       " ('huffingtonpost.com', 14)]"
      ]
     },
     "execution_count": 105,
     "metadata": {},
     "output_type": "execute_result"
    }
   ],
   "source": [
    "domain_con = Counter(politics_df[politics_df.Type == 'Controversial'].domain)\n",
    "domain_con.most_common(20)"
   ]
  },
  {
   "cell_type": "code",
   "execution_count": 107,
   "metadata": {},
   "outputs": [],
   "source": [
    "politics_df.to_csv('PoliticsDataSet.csv')"
   ]
  }
 ],
 "metadata": {
  "kernelspec": {
   "display_name": "Python 3",
   "language": "python",
   "name": "python3"
  },
  "language_info": {
   "codemirror_mode": {
    "name": "ipython",
    "version": 3
   },
   "file_extension": ".py",
   "mimetype": "text/x-python",
   "name": "python",
   "nbconvert_exporter": "python",
   "pygments_lexer": "ipython3",
   "version": "3.7.1"
  }
 },
 "nbformat": 4,
 "nbformat_minor": 2
}
